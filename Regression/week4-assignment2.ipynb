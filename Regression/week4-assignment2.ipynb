{
 "cells": [
  {
   "cell_type": "code",
   "execution_count": 7,
   "metadata": {
    "collapsed": false
   },
   "outputs": [
    {
     "name": "stdout",
     "output_type": "stream",
     "text": [
      "[ -1.63113519e-01   2.63024369e+02] \n",
      " [   9.76730396  124.57217382]\n"
     ]
    },
    {
     "data": {
      "text/plain": [
       "[<matplotlib.lines.Line2D at 0x113db1208>,\n",
       " <matplotlib.lines.Line2D at 0x113db14e0>,\n",
       " <matplotlib.lines.Line2D at 0x113db16d8>,\n",
       " <matplotlib.lines.Line2D at 0x113db65c0>,\n",
       " <matplotlib.lines.Line2D at 0x113db6828>,\n",
       " <matplotlib.lines.Line2D at 0x113dbb6a0>]"
      ]
     },
     "execution_count": 7,
     "metadata": {},
     "output_type": "execute_result"
    },
    {
     "data": {
      "image/png": "[encoded data removed]",
      "text/plain": [
       "<matplotlib.figure.Figure at 0x103c28be0>"
      ]
     },
     "metadata": {},
     "output_type": "display_data"
    }
   ],
   "source": [
    "import pandas as pd\n",
    "import numpy as np\n",
    "import math\n",
    "from sklearn import linear_model\n",
    "import matplotlib.pyplot as plt\n",
    "import seaborn as sns\n",
    "\n",
    "dtype_dict = {'bathrooms': float, 'waterfront': int, 'sqft_above': int, 'sqft_living15': float,\n",
    "              'grade': int, 'yr_renovated': int, 'price': float, 'bedrooms': float, 'zipcode': str, 'long': float,\n",
    "              'sqft_lot15': float, 'sqft_living': float, 'floors': str, 'condition': int, 'lat': float, 'date': str,\n",
    "              'sqft_basement': int, 'yr_built': int, 'id': str, 'sqft_lot': int, 'view': int}\n",
    "\n",
    "train_data = pd.read_csv(\n",
    "    \"../datasets/kc_house_train_data.csv\", dtype=dtype_dict)\n",
    "test_data = pd.read_csv(\n",
    "    \"../datasets/kc_house_test_data.csv\", dtype=dtype_dict)\n",
    "\n",
    "def get_numpy_data(data_frame, features, output):\n",
    "\n",
    "    data_frame['intercept'] = 1\n",
    "    features = ['intercept'] + features\n",
    "\n",
    "    features_matrix = data_frame[features].as_matrix()\n",
    "\n",
    "    output_array = data_frame[output].values\n",
    "    return (features_matrix, output_array)\n",
    "\n",
    "\n",
    "def predict_outcome(feature_matrix, weights):\n",
    "\n",
    "    return np.dot(feature_matrix, weights)\n",
    "\n",
    "\n",
    "def feature_derivative_ridge(errors, feature, weight, l2_penalty, feature_is_constant):\n",
    "\n",
    "    rss_derivative = 2 * np.dot(errors, feature)\n",
    "    if feature_is_constant:\n",
    "\n",
    "        return  rss_derivative\n",
    "\n",
    "    else:\n",
    "        l2_derivative = 2 * l2_penalty * weight\n",
    "        return (rss_derivative + l2_derivative)\n",
    "\n",
    "\n",
    "def ridge_regression_gradient_discent(feature_matrix, output, initial_weights, step_size, l2_penalty,\n",
    "                                      max_iterations = 100):\n",
    "\n",
    "    weights = np.array(initial_weights)\n",
    "    iterations = 0\n",
    "    while iterations < max_iterations:\n",
    "\n",
    "        for i in range(len(weights)):\n",
    "            if i == 0:\n",
    "                feature_is_constant = True\n",
    "            else:\n",
    "                feature_is_constant = False\n",
    "            errors = predict_outcome(feature_matrix, weights) - output\n",
    "            weights[i] -= step_size * feature_derivative_ridge(errors, feature_matrix[:,i], weights[i], l2_penalty, feature_is_constant)\n",
    "        iterations = iterations + 1\n",
    "#         print(iterations)\n",
    "\n",
    "    return weights\n",
    "\n",
    "simple_features = ['sqft_living']\n",
    "my_output = 'price'\n",
    "\n",
    "(simple_feature_matrix, output) = get_numpy_data(train_data, simple_features, my_output)\n",
    "(simple_test_feature_matrix, test_output) = get_numpy_data(test_data, simple_features, my_output)\n",
    "\n",
    "step_size = 1e-12\n",
    "max_iterations = 1000\n",
    "initial_weights = [0., 0.]\n",
    "high_penalty = 1e11\n",
    "\n",
    "simple_weights_0_penalty = ridge_regression_gradient_discent(simple_feature_matrix, output, initial_weights, step_size,\n",
    "                                                             0.0,\n",
    "                                                             max_iterations)\n",
    "simple_weights_high_penalty = ridge_regression_gradient_discent(simple_feature_matrix, output, initial_weights, step_size,\n",
    "                                                                high_penalty,\n",
    "                                                                max_iterations)\n",
    "\n",
    "print(simple_weights_0_penalty, '\\n', simple_weights_high_penalty)\n",
    "\n",
    "%matplotlib inline\n",
    "plt.plot(simple_feature_matrix,output,'k.',\n",
    "        simple_feature_matrix,predict_outcome(simple_feature_matrix, simple_weights_0_penalty),'b-',\n",
    "        simple_feature_matrix,predict_outcome(simple_feature_matrix, simple_weights_high_penalty),'r-')"
   ]
  },
  {
   "cell_type": "code",
   "execution_count": 8,
   "metadata": {
    "collapsed": false
   },
   "outputs": [
    {
     "name": "stdout",
     "output_type": "stream",
     "text": [
      "zero 1.784273e+15, no penalty 2.757236e+14, high penalty 6.946421e+14\n"
     ]
    }
   ],
   "source": [
    "def calrss(input_features, output, clf):\n",
    "\n",
    "    # hw = np.dot(input_features.as_matrix(),coef.T)\n",
    "    # rss_sum = (output.as_matrix()-hw) * (output.as_matrix()-hw)\n",
    "    rss_sum =((output - clf.predict(input_features)) ** 2)\n",
    "\n",
    "    return sum(rss_sum)\n",
    "\n",
    "rss_zero_weights = sum((test_output-predict_outcome(simple_test_feature_matrix, [0., 0.])) ** 2)\n",
    "rss_zero_penalty = sum((test_output-predict_outcome(simple_test_feature_matrix, simple_weights_0_penalty)) ** 2)\n",
    "rss_high_penalty = sum((test_output-predict_outcome(simple_test_feature_matrix, simple_weights_high_penalty)) ** 2)\n",
    "\n",
    "print(\"zero {:e}, no penalty {:e}, high penalty {:e}\".format(rss_zero_weights, rss_zero_penalty, rss_high_penalty))"
   ]
  },
  {
   "cell_type": "code",
   "execution_count": 9,
   "metadata": {
    "collapsed": false
   },
   "outputs": [
    {
     "name": "stdout",
     "output_type": "stream",
     "text": [
      "no penalty 243.17980962429283, high 91.48927227428833\n",
      "zero 1.784273e+15, no penalty 2.740738e+14, high penalty 5.004048e+14\n",
      "-77401.5154929 \n",
      " 39546.4708566\n"
     ]
    }
   ],
   "source": [
    "model_features = ['sqft_living', 'sqft_living15']\n",
    "my_output = 'price'\n",
    "(feature_matrix, output) = get_numpy_data(train_data, model_features, my_output)\n",
    "(test_feature_matrix, test_output) = get_numpy_data(test_data, model_features, my_output)\n",
    "\n",
    "step_size = 1e-12\n",
    "max_iterations = 1000\n",
    "initial_weights = [0., 0., 0.0]\n",
    "high_penalty = 1e11\n",
    "\n",
    "multiple_weights_0_penalty = ridge_regression_gradient_discent(feature_matrix, output, initial_weights,\n",
    "                                                              step_size,\n",
    "                                                              0.,\n",
    "                                                              max_iterations)\n",
    "\n",
    "multiple_weights_high_penalty = ridge_regression_gradient_discent(feature_matrix, output, initial_weights,\n",
    "                                                              step_size,\n",
    "                                                              high_penalty,\n",
    "                                                              max_iterations)\n",
    "\n",
    "print(\"no penalty {}, high {}\".format(multiple_weights_0_penalty[1], multiple_weights_high_penalty[1]))\n",
    "\n",
    "rss_zero_weights = sum((test_output-predict_outcome(test_feature_matrix, [0., 0., 0.])) ** 2)\n",
    "rss_zero_penalty = sum((test_output-predict_outcome(test_feature_matrix, multiple_weights_0_penalty)) ** 2)\n",
    "rss_high_penalty = sum((test_output-predict_outcome(test_feature_matrix, multiple_weights_high_penalty)) ** 2)\n",
    "\n",
    "print(\"zero {:e}, no penalty {:e}, high penalty {:e}\".format(rss_zero_weights, rss_zero_penalty, rss_high_penalty))\n",
    "\n",
    "\n",
    "no_penalty_first = (test_output-predict_outcome(test_feature_matrix, multiple_weights_0_penalty))[0]\n",
    "hight_penalty_first = (test_output-predict_outcome(test_feature_matrix, multiple_weights_high_penalty))[0]\n",
    "\n",
    "print(no_penalty_first, '\\n', hight_penalty_first)"
   ]
  },
  {
   "cell_type": "code",
   "execution_count": null,
   "metadata": {
    "collapsed": true
   },
   "outputs": [],
   "source": [
    ""
   ]
  }
 ],
 "metadata": {
  "kernelspec": {
   "display_name": "Python 3",
   "language": "python",
   "name": "python3"
  },
  "language_info": {
   "codemirror_mode": {
    "name": "ipython",
    "version": 3.0
   },
   "file_extension": ".py",
   "mimetype": "text/x-python",
   "name": "python",
   "nbconvert_exporter": "python",
   "pygments_lexer": "ipython3",
   "version": "3.4.4"
  }
 },
 "nbformat": 4,
 "nbformat_minor": 0
}
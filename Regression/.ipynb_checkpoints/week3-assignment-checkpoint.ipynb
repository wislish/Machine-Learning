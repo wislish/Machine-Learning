{
 "cells": [
  {
   "cell_type": "code",
   "execution_count": 3,
   "metadata": {
    "collapsed": false
   },
   "outputs": [
    {
     "name": "stderr",
     "output_type": "stream",
     "text": [
      "/Users/wislish/anaconda/envs/500lines-crawler/lib/python3.4/site-packages/IPython/html.py:14: ShimWarning: The `IPython.html` package has been deprecated. You should import from `notebook` instead. `IPython.html.widgets` has moved to `ipywidgets`.\n",
      "  \"`IPython.html.widgets` has moved to `ipywidgets`.\", ShimWarning)\n"
     ]
    },
    {
     "data": {
      "text/plain": [
       "<seaborn.axisgrid.FacetGrid at 0x110a43b00>"
      ]
     },
     "execution_count": 3,
     "metadata": {},
     "output_type": "execute_result"
    },
    {
     "data": {
      "image/png": "[encoded data removed]",
      "text/plain": [
       "<matplotlib.figure.Figure at 0x11096b320>"
      ]
     },
     "metadata": {},
     "output_type": "display_data"
    }
   ],
   "source": [
    "import pandas as pd\n",
    "import numpy as np\n",
    "import math\n",
    "from sklearn import linear_model\n",
    "import matplotlib.pyplot as plt\n",
    "import seaborn as sns\n",
    "\n",
    "\n",
    "dtype_dict = {'bathrooms': float, 'waterfront': int, 'sqft_above': int, 'sqft_living15': float,\n",
    "              'grade': int, 'yr_renovated': int, 'price': float, 'bedrooms': float, 'zipcode': str, 'long': float,\n",
    "              'sqft_lot15': float, 'sqft_living': float, 'floors': str, 'condition': int, 'lat': float, 'date': str,\n",
    "              'sqft_basement': int, 'yr_built': int, 'id': str, 'sqft_lot': int, 'view': int}\n",
    "\n",
    "\n",
    "def polynomial_dataframe(feature, degree):\n",
    "\n",
    "    poly_dataframe = pd.DataFrame()\n",
    "\n",
    "    poly_dataframe['power_1'] = feature\n",
    "\n",
    "    if degree > 1:\n",
    "        for power in range(2, degree+1):\n",
    "            name = 'power_' + str(power)\n",
    "            poly_dataframe[name] = poly_dataframe.power_1.apply(lambda x : math.pow(x, power))\n",
    "\n",
    "\n",
    "    return poly_dataframe\n",
    "\n",
    "def plotandlinear(sales, degrees):\n",
    "\n",
    "    sales = sales.sort_values(by = ['sqft_living','price'])\n",
    "    poly_data = polynomial_dataframe(sales['sqft_living'], degrees)\n",
    "    col_names = poly_data.columns\n",
    "    poly_data['price'] = sales['price']\n",
    "    clf = linear_model.LinearRegression()\n",
    "#     print(poly_data[col_names])\n",
    "    model = clf.fit(poly_data[col_names], y = poly_data[\"price\"])\n",
    "    print(model.coef_[14])\n",
    "#     print(poly_data.columns)\n",
    "\n",
    "sales = pd.read_csv('../datasets/kc_house_data.csv', dtype = dtype_dict)\n",
    "sales = sales.sort_values(by = ['sqft_living','price'])\n",
    "poly1_data = polynomial_dataframe(sales['sqft_living'], 1)\n",
    "poly1_data['price'] = sales['price']\n",
    "# print(poly1_data.iloc[:,1])\n",
    "\n",
    "clf1 = linear_model.LinearRegression()\n",
    "model1 = clf1.fit(pd.DataFrame(poly1_data[\"power_1\"]), y = poly1_data[\"price\"])\n",
    "model1_coef = model1.coef_\n",
    "model1_intercept = model1.intercept_\n",
    "\n",
    "%matplotlib inline\n",
    "# poly1_plot = sns.jointplot(x = \"sqft_living\", y = \"price\", data = sales)\n",
    "sns.lmplot(x = \"sqft_living\", y = \"price\", data = sales)"
   ]
  },
  {
   "cell_type": "code",
   "execution_count": 4,
   "metadata": {
    "collapsed": false
   },
   "outputs": [
    {
     "name": "stdout",
     "output_type": "stream",
     "text": [
      "2.18641116418e-52\n",
      "-1.97198917259e-49\n",
      "3.43132932053e-51\n",
      "-6.09163410768e-49\n"
     ]
    }
   ],
   "source": [
    "sales_set1 = pd.read_csv('../datasets/week3/wk3_kc_house_set_1_data.csv', dtype = dtype_dict)\n",
    "sales_set2 = pd.read_csv('../datasets/week3/wk3_kc_house_set_2_data.csv', dtype = dtype_dict)\n",
    "sales_set3 = pd.read_csv('../datasets/week3/wk3_kc_house_set_3_data.csv', dtype = dtype_dict)\n",
    "sales_set4 = pd.read_csv('../datasets/week3/wk3_kc_house_set_4_data.csv', dtype = dtype_dict)\n",
    "\n",
    "plotandlinear(sales_set1, 15)\n",
    "plotandlinear(sales_set2, 15)\n",
    "plotandlinear(sales_set3, 15)\n",
    "plotandlinear(sales_set4, 15)\n"
   ]
  },
  {
   "cell_type": "code",
   "execution_count": 8,
   "metadata": {
    "collapsed": false
   },
   "outputs": [
    {
     "name": "stdout",
     "output_type": "stream",
     "text": [
      "The RSS for 1 is 6.290979e+14\n",
      "The RSS for 2 is 6.239551e+14\n",
      "The RSS for 3 is 6.258203e+14\n",
      "The RSS for 4 is 6.299873e+14\n",
      "The RSS for 5 is 6.282384e+14\n",
      "The RSS for 6 is 5.662686e+14\n",
      "The RSS for 7 is 1.073845e+15\n",
      "The RSS for 8 is 7.087937e+15\n",
      "The RSS for 9 is 4.530312e+16\n",
      "The RSS for 10 is 2.476274e+17\n",
      "The RSS for 11 is 1.194165e+18\n",
      "The RSS for 12 is 5.101966e+18\n",
      "The RSS for 13 is 7.616230e+17\n",
      "The RSS for 14 is 2.297561e+18\n",
      "The RSS for 15 is 6.955038e+18\n"
     ]
    }
   ],
   "source": [
    "def calrss(input_features, output, clf):\n",
    "\n",
    "    # hw = np.dot(input_features.as_matrix(),coef.T)\n",
    "    # rss_sum = (output.as_matrix()-hw) * (output.as_matrix()-hw)\n",
    "    rss_sum =((output - clf.predict(input_features)) ** 2)\n",
    "\n",
    "    return sum(rss_sum)\n",
    "\n",
    "def selectBestDegree():\n",
    "    train_set = pd.read_csv('../datasets/week3/wk3_kc_house_train_data.csv', dtype = dtype_dict)\n",
    "    valid_set = pd.read_csv('../datasets/week3/wk3_kc_house_valid_data.csv', dtype = dtype_dict)\n",
    "    test_set = pd.read_csv('../datasets/week3/wk3_kc_house_test_data.csv', dtype = dtype_dict)\n",
    "    \n",
    "    for degree in range(1,16):\n",
    "        poly_data = polynomial_dataframe(train_set[\"sqft_living\"], degree)\n",
    "        valid_data = polynomial_dataframe(valid_set[\"sqft_living\"], degree)\n",
    "        test_data = polynomial_dataframe(test_set['sqft_living'], degree)\n",
    "        col_names = poly_data.columns\n",
    "        poly_data['price'] = train_set['price']\n",
    "        clf = linear_model.LinearRegression()\n",
    "        model = clf.fit(pd.DataFrame(poly_data[col_names]), y = poly_data[\"price\"])\n",
    "        \n",
    "        print(\"The RSS for {} is {:e}\".format(degree, calrss(valid_data,\n",
    "                                                           valid_set['price'], \n",
    "                                                           model)))\n",
    "        print(\"The test RSS is {:e}\".format(calrss(test_data,\n",
    "                                                   test_set['price'], \n",
    "                                                   model)))\n",
    "        \n",
    "    \n",
    "        \n",
    "selectBestDegree()\n",
    "        "
   ]
  },
  {
   "cell_type": "code",
   "execution_count": null,
   "metadata": {
    "collapsed": true
   },
   "outputs": [],
   "source": []
  }
 ],
 "metadata": {
  "kernelspec": {
   "display_name": "Python 3",
   "language": "python",
   "name": "python3"
  },
  "language_info": {
   "codemirror_mode": {
    "name": "ipython",
    "version": 3
   },
   "file_extension": ".py",
   "mimetype": "text/x-python",
   "name": "python",
   "nbconvert_exporter": "python",
   "pygments_lexer": "ipython3",
   "version": "3.4.4"
  }
 },
 "nbformat": 4,
 "nbformat_minor": 0
}
